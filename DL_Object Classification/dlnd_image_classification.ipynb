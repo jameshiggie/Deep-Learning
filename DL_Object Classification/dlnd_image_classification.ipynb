{
 "cells": [
  {
   "cell_type": "markdown",
   "metadata": {
    "collapsed": true
   },
   "source": [
    "# Image Classification\n",
    "In this project, you'll classify images from the [CIFAR-10 dataset](https://www.cs.toronto.edu/~kriz/cifar.html).  The dataset consists of airplanes, dogs, cats, and other objects. You'll preprocess the images, then train a convolutional neural network on all the samples. The images need to be normalized and the labels need to be one-hot encoded.  You'll get to apply what you learned and build a convolutional, max pooling, dropout, and fully connected layers.  At the end, you'll get to see your neural network's predictions on the sample images.\n",
    "## Get the Data\n",
    "Run the following cell to download the [CIFAR-10 dataset for python](https://www.cs.toronto.edu/~kriz/cifar-10-python.tar.gz)."
   ]
  },
  {
   "cell_type": "code",
   "execution_count": 1,
   "metadata": {
    "collapsed": false
   },
   "outputs": [
    {
     "name": "stderr",
     "output_type": "stream",
     "text": [
      "CIFAR-10 Dataset: 171MB [02:21, 1.20MB/s]                              \n"
     ]
    },
    {
     "name": "stdout",
     "output_type": "stream",
     "text": [
      "All files found!\n"
     ]
    }
   ],
   "source": [
    "\"\"\"\n",
    "DON'T MODIFY ANYTHING IN THIS CELL THAT IS BELOW THIS LINE\n",
    "\"\"\"\n",
    "from urllib.request import urlretrieve\n",
    "from os.path import isfile, isdir\n",
    "from tqdm import tqdm\n",
    "import problem_unittests as tests\n",
    "import tarfile\n",
    "\n",
    "cifar10_dataset_folder_path = 'cifar-10-batches-py'\n",
    "\n",
    "class DLProgress(tqdm):\n",
    "    last_block = 0\n",
    "\n",
    "    def hook(self, block_num=1, block_size=1, total_size=None):\n",
    "        self.total = total_size\n",
    "        self.update((block_num - self.last_block) * block_size)\n",
    "        self.last_block = block_num\n",
    "\n",
    "if not isfile('cifar-10-python.tar.gz'):\n",
    "    with DLProgress(unit='B', unit_scale=True, miniters=1, desc='CIFAR-10 Dataset') as pbar:\n",
    "        urlretrieve(\n",
    "            'https://www.cs.toronto.edu/~kriz/cifar-10-python.tar.gz',\n",
    "            'cifar-10-python.tar.gz',\n",
    "            pbar.hook)\n",
    "\n",
    "if not isdir(cifar10_dataset_folder_path):\n",
    "    with tarfile.open('cifar-10-python.tar.gz') as tar:\n",
    "        tar.extractall()\n",
    "        tar.close()\n",
    "\n",
    "\n",
    "tests.test_folder_path(cifar10_dataset_folder_path)"
   ]
  },
  {
   "cell_type": "markdown",
   "metadata": {},
   "source": [
    "## Explore the Data\n",
    "The dataset is broken into batches to prevent your machine from running out of memory.  The CIFAR-10 dataset consists of 5 batches, named `data_batch_1`, `data_batch_2`, etc.. Each batch contains the labels and images that are one of the following:\n",
    "* airplane\n",
    "* automobile\n",
    "* bird\n",
    "* cat\n",
    "* deer\n",
    "* dog\n",
    "* frog\n",
    "* horse\n",
    "* ship\n",
    "* truck\n",
    "\n",
    "Understanding a dataset is part of making predictions on the data.  Play around with the code cell below by changing the `batch_id` and `sample_id`. The `batch_id` is the id for a batch (1-5). The `sample_id` is the id for a image and label pair in the batch.\n",
    "\n",
    "Ask yourself \"What are all possible labels?\", \"What is the range of values for the image data?\", \"Are the labels in order or random?\".  Answers to questions like these will help you preprocess the data and end up with better predictions."
   ]
  },
  {
   "cell_type": "code",
   "execution_count": 2,
   "metadata": {
    "collapsed": false
   },
   "outputs": [
    {
     "name": "stdout",
     "output_type": "stream",
     "text": [
      "\n",
      "Stats of batch 1:\n",
      "Samples: 10000\n",
      "Label Counts: {0: 1005, 1: 974, 2: 1032, 3: 1016, 4: 999, 5: 937, 6: 1030, 7: 1001, 8: 1025, 9: 981}\n",
      "First 20 Labels: [6, 9, 9, 4, 1, 1, 2, 7, 8, 3, 4, 7, 7, 2, 9, 9, 9, 3, 2, 6]\n",
      "\n",
      "Example of Image 30:\n",
      "Image - Min Value: 5 Max Value: 241\n",
      "Image - Shape: (32, 32, 3)\n",
      "Label - Label Id: 0 Name: airplane\n"
     ]
    },
    {
     "data": {
      "image/png": "[encoded data removed]",
      "text/plain": [
       "<matplotlib.figure.Figure at 0x10b605da0>"
      ]
     },
     "metadata": {
      "image/png": {
       "height": 250,
       "width": 253
      }
     },
     "output_type": "display_data"
    }
   ],
   "source": [
    "%matplotlib inline\n",
    "%config InlineBackend.figure_format = 'retina'\n",
    "\n",
    "import helper\n",
    "import numpy as np\n",
    "\n",
    "# Explore the dataset\n",
    "batch_id = 1\n",
    "sample_id = 30\n",
    "helper.display_stats(cifar10_dataset_folder_path, batch_id, sample_id)"
   ]
  },
  {
   "cell_type": "markdown",
   "metadata": {},
   "source": [
    "## Implement Preprocess Functions\n",
    "### Normalize\n",
    "In the cell below, implement the `normalize` function to take in image data, `x`, and return it as a normalized Numpy array. The values should be in the range of 0 to 1, inclusive.  The return object should be the same shape as `x`."
   ]
  },
  {
   "cell_type": "code",
   "execution_count": 3,
   "metadata": {
    "collapsed": false
   },
   "outputs": [
    {
     "name": "stdout",
     "output_type": "stream",
     "text": [
      "Tests Passed\n"
     ]
    }
   ],
   "source": [
    "def normalize(x):\n",
    "    \"\"\"\n",
    "    Normalize a list of sample image data in the range of 0 to 1\n",
    "    : x: List of image data.  The image shape is (32, 32, 3)\n",
    "    : return: Numpy array of normalize data\n",
    "    \"\"\"\n",
    "    # TODO: Implement Function\n",
    "    return x/255\n",
    "\n",
    "\n",
    "\"\"\"\n",
    "DON'T MODIFY ANYTHING IN THIS CELL THAT IS BELOW THIS LINE\n",
    "\"\"\"\n",
    "tests.test_normalize(normalize)"
   ]
  },
  {
   "cell_type": "markdown",
   "metadata": {},
   "source": [
    "### One-hot encode\n",
    "Just like the previous code cell, you'll be implementing a function for preprocessing.  This time, you'll implement the `one_hot_encode` function. The input, `x`, are a list of labels.  Implement the function to return the list of labels as One-Hot encoded Numpy array.  The possible values for labels are 0 to 9. The one-hot encoding function should return the same encoding for each value between each call to `one_hot_encode`.  Make sure to save the map of encodings outside the function.\n",
    "\n",
    "Hint: Don't reinvent the wheel."
   ]
  },
  {
   "cell_type": "code",
   "execution_count": 4,
   "metadata": {
    "collapsed": false
   },
   "outputs": [
    {
     "name": "stdout",
     "output_type": "stream",
     "text": [
      "3\n"
     ]
    }
   ],
   "source": [
    "a=np.array([1,0,4])\n",
    "print(a.size)"
   ]
  },
  {
   "cell_type": "code",
   "execution_count": 5,
   "metadata": {
    "collapsed": false
   },
   "outputs": [
    {
     "name": "stdout",
     "output_type": "stream",
     "text": [
      "(301, 10)\n",
      "(5, 10)\n",
      "Tests Passed\n"
     ]
    }
   ],
   "source": [
    "def one_hot_encode(x):\n",
    "    \"\"\"\n",
    "    One hot encode a list of sample labels. Return a one-hot encoded vector for each label.\n",
    "    : x: List of sample Labels\n",
    "    : return: Numpy array of one-hot encoded labels\n",
    "    \"\"\"\n",
    "    # TODO: Implement Function\n",
    "    #number_of_labes = 10\n",
    "    \n",
    "    OhcX = np.zeros((len(x),max(x)+1))\n",
    "    print (OhcX.shape)\n",
    "    OhcX[np.arange(len(x)), x] = 1\n",
    "    \n",
    "    return OhcX\n",
    "\n",
    "\n",
    "\"\"\"\n",
    "DON'T MODIFY ANYTHING IN THIS CELL THAT IS BELOW THIS LINE\n",
    "\"\"\"\n",
    "tests.test_one_hot_encode(one_hot_encode)"
   ]
  },
  {
   "cell_type": "markdown",
   "metadata": {},
   "source": [
    "### Randomize Data\n",
    "As you saw from exploring the data above, the order of the samples are randomized.  It doesn't hurt to randomize it again, but you don't need to for this dataset."
   ]
  },
  {
   "cell_type": "markdown",
   "metadata": {},
   "source": [
    "## Preprocess all the data and save it\n",
    "Running the code cell below will preprocess all the CIFAR-10 data and save it to file. The code below also uses 10% of the training data for validation."
   ]
  },
  {
   "cell_type": "code",
   "execution_count": 6,
   "metadata": {
    "collapsed": false
   },
   "outputs": [
    {
     "name": "stdout",
     "output_type": "stream",
     "text": [
      "(9000, 10)\n",
      "(9000, 10)\n",
      "(9000, 10)\n",
      "(9000, 10)\n",
      "(9000, 10)\n",
      "(5000, 10)\n",
      "(10000, 10)\n"
     ]
    }
   ],
   "source": [
    "\"\"\"\n",
    "DON'T MODIFY ANYTHING IN THIS CELL\n",
    "\"\"\"\n",
    "# Preprocess Training, Validation, and Testing Data\n",
    "helper.preprocess_and_save_data(cifar10_dataset_folder_path, normalize, one_hot_encode)"
   ]
  },
  {
   "cell_type": "markdown",
   "metadata": {},
   "source": [
    "# Check Point\n",
    "This is your first checkpoint.  If you ever decide to come back to this notebook or have to restart the notebook, you can start from here.  The preprocessed data has been saved to disk."
   ]
  },
  {
   "cell_type": "code",
   "execution_count": 7,
   "metadata": {
    "collapsed": true
   },
   "outputs": [],
   "source": [
    "\"\"\"\n",
    "DON'T MODIFY ANYTHING IN THIS CELL\n",
    "\"\"\"\n",
    "import pickle\n",
    "import problem_unittests as tests\n",
    "import helper\n",
    "\n",
    "# Load the Preprocessed Validation data\n",
    "valid_features, valid_labels = pickle.load(open('preprocess_validation.p', mode='rb'))"
   ]
  },
  {
   "cell_type": "markdown",
   "metadata": {},
   "source": [
    "## Build the network\n",
    "For the neural network, you'll build each layer into a function.  Most of the code you've seen has been outside of functions. To test your code more thoroughly, we require that you put each layer in a function.  This allows us to give you better feedback and test for simple mistakes using our unittests before you submit your project.\n",
    "\n",
    ">**Note:** If you're finding it hard to dedicate enough time for this course each week, we've provided a small shortcut to this part of the project. In the next couple of problems, you'll have the option to use classes from the [TensorFlow Layers](https://www.tensorflow.org/api_docs/python/tf/layers) or [TensorFlow Layers (contrib)](https://www.tensorflow.org/api_guides/python/contrib.layers) packages to build each layer, except the layers you build in the \"Convolutional and Max Pooling Layer\" section.  TF Layers is similar to Keras's and TFLearn's abstraction to layers, so it's easy to pickup.\n",
    "\n",
    ">However, if you would like to get the most out of this course, try to solve all the problems _without_ using anything from the TF Layers packages. You **can** still use classes from other packages that happen to have the same name as ones you find in TF Layers! For example, instead of using the TF Layers version of the `conv2d` class, [tf.layers.conv2d](https://www.tensorflow.org/api_docs/python/tf/layers/conv2d), you would want to use the TF Neural Network version of `conv2d`, [tf.nn.conv2d](https://www.tensorflow.org/api_docs/python/tf/nn/conv2d). \n",
    "\n",
    "Let's begin!\n",
    "\n",
    "### Input\n",
    "The neural network needs to read the image data, one-hot encoded labels, and dropout keep probability. Implement the following functions\n",
    "* Implement `neural_net_image_input`\n",
    " * Return a [TF Placeholder](https://www.tensorflow.org/api_docs/python/tf/placeholder)\n",
    " * Set the shape using `image_shape` with batch size set to `None`.\n",
    " * Name the TensorFlow placeholder \"x\" using the TensorFlow `name` parameter in the [TF Placeholder](https://www.tensorflow.org/api_docs/python/tf/placeholder).\n",
    "* Implement `neural_net_label_input`\n",
    " * Return a [TF Placeholder](https://www.tensorflow.org/api_docs/python/tf/placeholder)\n",
    " * Set the shape using `n_classes` with batch size set to `None`.\n",
    " * Name the TensorFlow placeholder \"y\" using the TensorFlow `name` parameter in the [TF Placeholder](https://www.tensorflow.org/api_docs/python/tf/placeholder).\n",
    "* Implement `neural_net_keep_prob_input`\n",
    " * Return a [TF Placeholder](https://www.tensorflow.org/api_docs/python/tf/placeholder) for dropout keep probability.\n",
    " * Name the TensorFlow placeholder \"keep_prob\" using the TensorFlow `name` parameter in the [TF Placeholder](https://www.tensorflow.org/api_docs/python/tf/placeholder).\n",
    "\n",
    "These names will be used at the end of the project to load your saved model.\n",
    "\n",
    "Note: `None` for shapes in TensorFlow allow for a dynamic size."
   ]
  },
  {
   "cell_type": "code",
   "execution_count": 8,
   "metadata": {
    "collapsed": false
   },
   "outputs": [
    {
     "name": "stdout",
     "output_type": "stream",
     "text": [
      "Image Input Tests Passed.\n",
      "Label Input Tests Passed.\n",
      "Keep Prob Tests Passed.\n"
     ]
    }
   ],
   "source": [
    "import tensorflow as tf\n",
    "\n",
    "def neural_net_image_input(image_shape):\n",
    "    \"\"\"\n",
    "    Return a Tensor for a batch of image input\n",
    "    : image_shape: Shape of the images\n",
    "    : return: Tensor for image input.\n",
    "    \"\"\"\n",
    "    image_shape = [None] + list(image_shape)\n",
    "    \n",
    "    x = tf.placeholder(tf.float32, shape = image_shape, name = 'x')\n",
    "    \n",
    "    return x\n",
    "\n",
    "\n",
    "def neural_net_label_input(n_classes):\n",
    "    \"\"\"\n",
    "    Return a Tensor for a batch of label input\n",
    "    : n_classes: Number of classes\n",
    "    : return: Tensor for label input.\n",
    "    \"\"\"\n",
    "    \n",
    "    n_classes = [None, n_classes]\n",
    "    \n",
    "    y = tf.placeholder(tf.float32, shape = n_classes, name = 'y')\n",
    "    return y\n",
    "\n",
    "\n",
    "def neural_net_keep_prob_input():\n",
    "    \"\"\"\n",
    "    Return a Tensor for keep probability\n",
    "    : return: Tensor for keep probability.\n",
    "    \"\"\"\n",
    "    \n",
    "    keep_prob = tf.placeholder(tf.float32, name = 'keep_prob')\n",
    "    return keep_prob\n",
    "\n",
    "\n",
    "\"\"\"\n",
    "DON'T MODIFY ANYTHING IN THIS CELL THAT IS BELOW THIS LINE\n",
    "\"\"\"\n",
    "tf.reset_default_graph()\n",
    "tests.test_nn_image_inputs(neural_net_image_input)\n",
    "tests.test_nn_label_inputs(neural_net_label_input)\n",
    "tests.test_nn_keep_prob_inputs(neural_net_keep_prob_input)"
   ]
  },
  {
   "cell_type": "markdown",
   "metadata": {},
   "source": [
    "### Convolution and Max Pooling Layer\n",
    "Convolution layers have a lot of success with images. For this code cell, you should implement the function `conv2d_maxpool` to apply convolution then max pooling:\n",
    "* Create the weight and bias using `conv_ksize`, `conv_num_outputs` and the shape of `x_tensor`.\n",
    "* Apply a convolution to `x_tensor` using weight and `conv_strides`.\n",
    " * We recommend you use same padding, but you're welcome to use any padding.\n",
    "* Add bias\n",
    "* Add a nonlinear activation to the convolution.\n",
    "* Apply Max Pooling using `pool_ksize` and `pool_strides`.\n",
    " * We recommend you use same padding, but you're welcome to use any padding.\n",
    "\n",
    "**Note:** You **can't** use [TensorFlow Layers](https://www.tensorflow.org/api_docs/python/tf/layers) or [TensorFlow Layers (contrib)](https://www.tensorflow.org/api_guides/python/contrib.layers) for **this** layer, but you can still use TensorFlow's [Neural Network](https://www.tensorflow.org/api_docs/python/tf/nn) package. You may still use the shortcut option for all the **other** layers."
   ]
  },
  {
   "cell_type": "code",
   "execution_count": 9,
   "metadata": {
    "collapsed": false
   },
   "outputs": [
    {
     "name": "stdout",
     "output_type": "stream",
     "text": [
      "Tests Passed\n"
     ]
    }
   ],
   "source": [
    "def conv2d_maxpool(x_tensor, conv_num_outputs, conv_ksize, conv_strides, pool_ksize, pool_strides):\n",
    "    \"\"\"\n",
    "    Apply convolution then max pooling to x_tensor\n",
    "    :param x_tensor: TensorFlow Tensor\n",
    "    :param conv_num_outputs: Number of outputs for the convolutional layer\n",
    "    :param conv_ksize: kernal size 2-D Tuple for the convolutional layer\n",
    "    :param conv_strides: Stride 2-D Tuple for convolution\n",
    "    :param pool_ksize: kernal size 2-D Tuple for pool\n",
    "    :param pool_strides: Stride 2-D Tuple for pool\n",
    "    : return: A tensor that represents convolution and max pooling of x_tensor\n",
    "    \"\"\"\n",
    "    #print (conv_ksize) \n",
    "    #print(x_tensor.get_shape())\n",
    "    in_channels = x_tensor.get_shape().as_list()[-1]\n",
    "    out_channels = conv_num_outputs\n",
    "    WeightShape = (conv_ksize[0], conv_ksize[1], in_channels, out_channels) \n",
    "    #print (WeightShape)\n",
    "    Weight = tf.Variable(tf.truncated_normal(shape = WeightShape, stddev = 0.1 ))\n",
    "    Bias = tf.Variable(tf.zeros(conv_num_outputs,))\n",
    "    \n",
    "    stride_shape = [1, conv_strides[0], conv_strides[1],1]\n",
    "    #print (stride_shape)\n",
    "    pool_k_shape = [1, pool_ksize[0], pool_ksize[1],1]\n",
    "    #print (pool_k_shape)\n",
    "    pool_stride_shape = [1, pool_strides[0], pool_strides[1],1]\n",
    "    \n",
    "    conv_layer = tf.nn.conv2d(x_tensor, Weight, strides=stride_shape, padding = 'SAME')\n",
    "    conv_layer = tf.nn.bias_add(conv_layer, Bias)\n",
    "    conv_layer = tf.nn.relu(conv_layer)\n",
    "    \n",
    "    conv_mp_layer = tf.nn.max_pool(conv_layer, ksize = pool_k_shape, strides = pool_stride_shape, padding = 'SAME' )\n",
    "    \n",
    "    #print (conv_mp_layer.shape)\n",
    "    return conv_mp_layer \n",
    "\n",
    "\n",
    "\"\"\"\n",
    "DON'T MODIFY ANYTHING IN THIS CELL THAT IS BELOW THIS LINE\n",
    "\"\"\"\n",
    "tests.test_con_pool(conv2d_maxpool)"
   ]
  },
  {
   "cell_type": "markdown",
   "metadata": {},
   "source": [
    "### Flatten Layer\n",
    "Implement the `flatten` function to change the dimension of `x_tensor` from a 4-D tensor to a 2-D tensor.  The output should be the shape (*Batch Size*, *Flattened Image Size*). Shortcut option: you can use classes from the [TensorFlow Layers](https://www.tensorflow.org/api_docs/python/tf/layers) or [TensorFlow Layers (contrib)](https://www.tensorflow.org/api_guides/python/contrib.layers) packages for this layer. For more of a challenge, only use other TensorFlow packages."
   ]
  },
  {
   "cell_type": "code",
   "execution_count": 10,
   "metadata": {
    "collapsed": false
   },
   "outputs": [
    {
     "name": "stdout",
     "output_type": "stream",
     "text": [
      "Tests Passed\n"
     ]
    }
   ],
   "source": [
    "def flatten(x_tensor):\n",
    "    \"\"\"\n",
    "    Flatten x_tensor to (Batch Size, Flattened Image Size)\n",
    "    : x_tensor: A tensor of size (Batch Size, ...), where ... are the image dimensions.\n",
    "    : return: A tensor of size (Batch Size, Flattened Image Size).\n",
    "    \"\"\"\n",
    "    batch = x_tensor.get_shape().as_list()[0]\n",
    "    width = x_tensor.get_shape().as_list()[1]\n",
    "    height = x_tensor.get_shape().as_list()[2]\n",
    "    channels = x_tensor.get_shape().as_list()[3]\n",
    "    \n",
    "    x_flat_tensor = tf.reshape(x_tensor, [-1, width * height * channels])\n",
    "    \n",
    "    return x_flat_tensor\n",
    "\n",
    "\n",
    "\"\"\"\n",
    "DON'T MODIFY ANYTHING IN THIS CELL THAT IS BELOW THIS LINE\n",
    "\"\"\"\n",
    "tests.test_flatten(flatten)"
   ]
  },
  {
   "cell_type": "markdown",
   "metadata": {},
   "source": [
    "### Fully-Connected Layer\n",
    "Implement the `fully_conn` function to apply a fully connected layer to `x_tensor` with the shape (*Batch Size*, *num_outputs*). Shortcut option: you can use classes from the [TensorFlow Layers](https://www.tensorflow.org/api_docs/python/tf/layers) or [TensorFlow Layers (contrib)](https://www.tensorflow.org/api_guides/python/contrib.layers) packages for this layer. For more of a challenge, only use other TensorFlow packages."
   ]
  },
  {
   "cell_type": "code",
   "execution_count": 11,
   "metadata": {
    "collapsed": false
   },
   "outputs": [
    {
     "name": "stdout",
     "output_type": "stream",
     "text": [
      "Tests Passed\n"
     ]
    }
   ],
   "source": [
    "def fully_conn(x_tensor, num_outputs):\n",
    "    \"\"\"\n",
    "    Apply a fully connected layer to x_tensor using weight and bias\n",
    "    : x_tensor: A 2-D tensor where the first dimension is batch size.\n",
    "    : num_outputs: The number of output that the new tensor should be.\n",
    "    : return: A 2-D tensor where the second dimension is num_outputs.\n",
    "    \"\"\"\n",
    "    xshape = x_tensor.get_shape().as_list()\n",
    "    #print (xshape)\n",
    "    Weight = tf.Variable(tf.truncated_normal([xshape[1],num_outputs], stddev = 0.1 ))\n",
    "    Bias = tf.Variable(tf.zeros(num_outputs))\n",
    "    \n",
    "    x_tensor = tf.matmul(x_tensor,Weight)\n",
    "    x_tensor = tf.add(x_tensor, Bias)\n",
    "    x_tensor = tf.nn.relu(x_tensor)\n",
    "    return x_tensor\n",
    "\n",
    "\"\"\"\n",
    "DON'T MODIFY ANYTHING IN THIS CELL THAT IS BELOW THIS LINE\n",
    "\"\"\"\n",
    "tests.test_fully_conn(fully_conn)"
   ]
  },
  {
   "cell_type": "markdown",
   "metadata": {},
   "source": [
    "### Output Layer\n",
    "Implement the `output` function to apply a fully connected layer to `x_tensor` with the shape (*Batch Size*, *num_outputs*). Shortcut option: you can use classes from the [TensorFlow Layers](https://www.tensorflow.org/api_docs/python/tf/layers) or [TensorFlow Layers (contrib)](https://www.tensorflow.org/api_guides/python/contrib.layers) packages for this layer. For more of a challenge, only use other TensorFlow packages.\n",
    "\n",
    "**Note:** Activation, softmax, or cross entropy should **not** be applied to this."
   ]
  },
  {
   "cell_type": "code",
   "execution_count": 12,
   "metadata": {
    "collapsed": false
   },
   "outputs": [
    {
     "name": "stdout",
     "output_type": "stream",
     "text": [
      "Tests Passed\n"
     ]
    }
   ],
   "source": [
    "def output(x_tensor, num_outputs):\n",
    "    \"\"\"\n",
    "    Apply a output layer to x_tensor using weight and bias\n",
    "    : x_tensor: A 2-D tensor where the first dimension is batch size.\n",
    "    : num_outputs: The number of output that the new tensor should be.\n",
    "    : return: A 2-D tensor where the second dimension is num_outputs.\n",
    "    \"\"\"\n",
    "    xshape = x_tensor.get_shape().as_list()\n",
    "    #\n",
    "    \n",
    "    Weight = tf.Variable(tf.truncated_normal([xshape[1],num_outputs], stddev = 0.1 ))\n",
    "    Bias = tf.Variable(tf.zeros(num_outputs))\n",
    "    \n",
    "    x_tensor = tf.matmul(x_tensor,Weight)\n",
    "    x_tensor = tf.add(x_tensor, Bias)\n",
    "\n",
    "    return x_tensor\n",
    "\n",
    "\"\"\"\n",
    "DON'T MODIFY ANYTHING IN THIS CELL THAT IS BELOW THIS LINE\n",
    "\"\"\"\n",
    "tests.test_output(output)"
   ]
  },
  {
   "cell_type": "markdown",
   "metadata": {},
   "source": [
    "### Create Convolutional Model\n",
    "Implement the function `conv_net` to create a convolutional neural network model. The function takes in a batch of images, `x`, and outputs logits.  Use the layers you created above to create this model:\n",
    "\n",
    "* Apply 1, 2, or 3 Convolution and Max Pool layers\n",
    "* Apply a Flatten Layer\n",
    "* Apply 1, 2, or 3 Fully Connected Layers\n",
    "* Apply an Output Layer\n",
    "* Return the output\n",
    "* Apply [TensorFlow's Dropout](https://www.tensorflow.org/api_docs/python/tf/nn/dropout) to one or more layers in the model using `keep_prob`. "
   ]
  },
  {
   "cell_type": "code",
   "execution_count": 13,
   "metadata": {
    "collapsed": false
   },
   "outputs": [
    {
     "name": "stdout",
     "output_type": "stream",
     "text": [
      "Neural Network Built!\n"
     ]
    }
   ],
   "source": [
    "def conv_net(x, keep_prob):\n",
    "    \"\"\"\n",
    "    Create a convolutional neural network model\n",
    "    : x: Placeholder tensor that holds image data.\n",
    "    : keep_prob: Placeholder tensor that hold dropout keep probability.\n",
    "    : return: Tensor that represents logits\n",
    "    \"\"\"\n",
    "    # TODO: Apply 1, 2, or 3 Convolution and Max Pool layers\n",
    "    #    Play around with different number of outputs, kernel size and stride\n",
    "    # Function Definition from Above:\n",
    "    #conv2d_maxpool(x_tensor, conv_num_outputs, conv_ksize, conv_strides, pool_ksize, pool_strides)\n",
    "    \n",
    "    x = conv2d_maxpool(x, 16, (8, 8), (1, 1), (2, 2), (2, 2))\n",
    "    x = conv2d_maxpool(x, 32, (8, 8), (1, 1), (2, 2), (2, 2))\n",
    "    x = conv2d_maxpool(x, 64, (4, 4), (1, 1), (2, 2), (2, 2))\n",
    "    x = conv2d_maxpool(x, 128, (2, 2), (1, 1), (2, 2), (2, 2))\n",
    "\n",
    "\n",
    "    # TODO: Apply a Flatten Layer\n",
    "    # Function Definition from Above:\n",
    "    #   flatten(x_tensor)\n",
    "    \n",
    "    x = flatten(x)\n",
    "\n",
    "    # TODO: Apply 1, 2, or 3 Fully Connected Layers\n",
    "    #    Play around with different number of outputs\n",
    "    # Function Definition from Above:\n",
    "    #   fully_conn(x_tensor, num_outputs)\n",
    "    \n",
    "    x = fully_conn(x, 128) \n",
    "    x = tf.nn.dropout(x, keep_prob)\n",
    "    x = fully_conn(x, 32) \n",
    "    x = tf.nn.dropout(x, keep_prob)\n",
    "\n",
    "    # TODO: Apply an Output Layer\n",
    "    #    Set this to the number of classes\n",
    "    # Function Definition from Above:\n",
    "    #   output(x_tensor, num_outputs)\n",
    "    \n",
    "    x = output(x, 10)\n",
    "    \n",
    "    # TODO: return output\n",
    "    return x\n",
    "\n",
    "\n",
    "\"\"\"\n",
    "DON'T MODIFY ANYTHING IN THIS CELL THAT IS BELOW THIS LINE\n",
    "\"\"\"\n",
    "\n",
    "##############################\n",
    "## Build the Neural Network ##\n",
    "##############################\n",
    "\n",
    "# Remove previous weights, bias, inputs, etc..\n",
    "tf.reset_default_graph()\n",
    "\n",
    "# Inputs\n",
    "x = neural_net_image_input((32, 32, 3))\n",
    "y = neural_net_label_input(10)\n",
    "keep_prob = neural_net_keep_prob_input()\n",
    "\n",
    "# Model\n",
    "logits = conv_net(x, keep_prob)\n",
    "\n",
    "# Name logits Tensor, so that is can be loaded from disk after training\n",
    "logits = tf.identity(logits, name='logits')\n",
    "\n",
    "# Loss and Optimizer\n",
    "cost = tf.reduce_mean(tf.nn.softmax_cross_entropy_with_logits(logits=logits, labels=y))\n",
    "optimizer = tf.train.AdamOptimizer().minimize(cost)\n",
    "\n",
    "# Accuracy\n",
    "correct_pred = tf.equal(tf.argmax(logits, 1), tf.argmax(y, 1))\n",
    "accuracy = tf.reduce_mean(tf.cast(correct_pred, tf.float32), name='accuracy')\n",
    "\n",
    "tests.test_conv_net(conv_net)"
   ]
  },
  {
   "cell_type": "markdown",
   "metadata": {},
   "source": [
    "## Train the Neural Network\n",
    "### Single Optimization\n",
    "Implement the function `train_neural_network` to do a single optimization.  The optimization should use `optimizer` to optimize in `session` with a `feed_dict` of the following:\n",
    "* `x` for image input\n",
    "* `y` for labels\n",
    "* `keep_prob` for keep probability for dropout\n",
    "\n",
    "This function will be called for each batch, so `tf.global_variables_initializer()` has already been called.\n",
    "\n",
    "Note: Nothing needs to be returned. This function is only optimizing the neural network."
   ]
  },
  {
   "cell_type": "code",
   "execution_count": 14,
   "metadata": {
    "collapsed": false
   },
   "outputs": [
    {
     "name": "stdout",
     "output_type": "stream",
     "text": [
      "Tests Passed\n"
     ]
    }
   ],
   "source": [
    "def train_neural_network(session, optimizer, keep_probability, feature_batch, label_batch):\n",
    "    \"\"\"\n",
    "    Optimize the session on a batch of images and labels\n",
    "    : session: Current TensorFlow session\n",
    "    : optimizer: TensorFlow optimizer function\n",
    "    : keep_probability: keep probability\n",
    "    : feature_batch: Batch of Numpy image data\n",
    "    : label_batch: Batch of Numpy label data\n",
    "    \"\"\"\n",
    "    session.run(optimizer, feed_dict= { x: feature_batch, y: label_batch, keep_prob: keep_probability})\n",
    "    \n",
    "    pass\n",
    "\n",
    "\n",
    "\"\"\"\n",
    "DON'T MODIFY ANYTHING IN THIS CELL THAT IS BELOW THIS LINE\n",
    "\"\"\"\n",
    "tests.test_train_nn(train_neural_network)\n",
    "\n"
   ]
  },
  {
   "cell_type": "markdown",
   "metadata": {},
   "source": [
    "### Show Stats\n",
    "Implement the function `print_stats` to print loss and validation accuracy.  Use the global variables `valid_features` and `valid_labels` to calculate validation accuracy.  Use a keep probability of `1.0` to calculate the loss and validation accuracy."
   ]
  },
  {
   "cell_type": "code",
   "execution_count": 15,
   "metadata": {
    "collapsed": true
   },
   "outputs": [],
   "source": [
    "def print_stats(session, feature_batch, label_batch, cost, accuracy):\n",
    "    \n",
    "    \"\"\"\n",
    "    Print information about loss and validation accuracy\n",
    "    : session: Current TensorFlow session\n",
    "    : feature_batch: Batch of Numpy image data\n",
    "    : label_batch: Batch of Numpy label data\n",
    "    : cost: TensorFlow cost function\n",
    "    : accuracy: TensorFlow accuracy function\n",
    "    \"\"\"\n",
    "    \n",
    "    val_accuracy = session.run(accuracy, feed_dict={x: valid_features, y: valid_labels, keep_prob: 1.0})\n",
    "    loss = session.run(cost, feed_dict={x: feature_batch, y: label_batch, keep_prob: 1.0})\n",
    "    \n",
    "    print(\"Val accuracy: {}, Current loss: {}\".format(val_accuracy, loss))\n",
    "    \n",
    "    "
   ]
  },
  {
   "cell_type": "markdown",
   "metadata": {},
   "source": [
    "### Hyperparameters\n",
    "Tune the following parameters:\n",
    "* Set `epochs` to the number of iterations until the network stops learning or start overfitting\n",
    "* Set `batch_size` to the highest number that your machine has memory for.  Most people set them to common sizes of memory:\n",
    " * 64\n",
    " * 128\n",
    " * 256\n",
    " * ...\n",
    "* Set `keep_probability` to the probability of keeping a node using dropout"
   ]
  },
  {
   "cell_type": "code",
   "execution_count": 24,
   "metadata": {
    "collapsed": true
   },
   "outputs": [],
   "source": [
    "# TODO: Tune Parameters\n",
    "epochs = 20\n",
    "batch_size = 512\n",
    "keep_probability = 0.6"
   ]
  },
  {
   "cell_type": "markdown",
   "metadata": {},
   "source": [
    "### Train on a Single CIFAR-10 Batch\n",
    "Instead of training the neural network on all the CIFAR-10 batches of data, let's use a single batch. This should save time while you iterate on the model to get a better accuracy.  Once the final validation accuracy is 50% or greater, run the model on all the data in the next section."
   ]
  },
  {
   "cell_type": "code",
   "execution_count": 25,
   "metadata": {
    "collapsed": false
   },
   "outputs": [
    {
     "name": "stdout",
     "output_type": "stream",
     "text": [
      "Checking the Training on a Single Batch...\n",
      "Epoch  1, CIFAR-10 Batch 1:  Val accuracy: 0.1289999932050705, Current loss: 2.2934365272521973\n",
      "Epoch  2, CIFAR-10 Batch 1:  Val accuracy: 0.1842000037431717, Current loss: 2.2601726055145264\n",
      "Epoch  3, CIFAR-10 Batch 1:  Val accuracy: 0.21320000290870667, Current loss: 2.158224582672119\n",
      "Epoch  4, CIFAR-10 Batch 1:  Val accuracy: 0.24420000612735748, Current loss: 2.062267541885376\n",
      "Epoch  5, CIFAR-10 Batch 1:  Val accuracy: 0.2651999890804291, Current loss: 1.98948335647583\n",
      "Epoch  6, CIFAR-10 Batch 1:  Val accuracy: 0.28519999980926514, Current loss: 1.9443798065185547\n",
      "Epoch  7, CIFAR-10 Batch 1:  Val accuracy: 0.2831999957561493, Current loss: 1.9304767847061157\n",
      "Epoch  8, CIFAR-10 Batch 1:  Val accuracy: 0.3463999927043915, Current loss: 1.8277409076690674\n",
      "Epoch  9, CIFAR-10 Batch 1:  Val accuracy: 0.37400001287460327, Current loss: 1.7707618474960327\n",
      "Epoch 10, CIFAR-10 Batch 1:  Val accuracy: 0.38199999928474426, Current loss: 1.7006986141204834\n",
      "Epoch 11, CIFAR-10 Batch 1:  Val accuracy: 0.37940001487731934, Current loss: 1.6837729215621948\n",
      "Epoch 12, CIFAR-10 Batch 1:  Val accuracy: 0.4065999984741211, Current loss: 1.598467230796814\n",
      "Epoch 13, CIFAR-10 Batch 1:  Val accuracy: 0.42899999022483826, Current loss: 1.5702159404754639\n",
      "Epoch 14, CIFAR-10 Batch 1:  Val accuracy: 0.4214000105857849, Current loss: 1.5546848773956299\n",
      "Epoch 15, CIFAR-10 Batch 1:  Val accuracy: 0.4198000133037567, Current loss: 1.5089401006698608\n",
      "Epoch 16, CIFAR-10 Batch 1:  Val accuracy: 0.44020000100135803, Current loss: 1.4426504373550415\n",
      "Epoch 17, CIFAR-10 Batch 1:  Val accuracy: 0.43320000171661377, Current loss: 1.4083348512649536\n",
      "Epoch 18, CIFAR-10 Batch 1:  Val accuracy: 0.4480000138282776, Current loss: 1.3681683540344238\n",
      "Epoch 19, CIFAR-10 Batch 1:  Val accuracy: 0.45899999141693115, Current loss: 1.3250155448913574\n",
      "Epoch 20, CIFAR-10 Batch 1:  Val accuracy: 0.45179998874664307, Current loss: 1.3014365434646606\n"
     ]
    }
   ],
   "source": [
    "\"\"\"\n",
    "DON'T MODIFY ANYTHING IN THIS CELL\n",
    "\"\"\"\n",
    "print('Checking the Training on a Single Batch...')\n",
    "with tf.Session() as sess:\n",
    "    # Initializing the variables\n",
    "    sess.run(tf.global_variables_initializer())\n",
    "    \n",
    "    # Training cycle\n",
    "    for epoch in range(epochs):\n",
    "        batch_i = 1\n",
    "        for batch_features, batch_labels in helper.load_preprocess_training_batch(batch_i, batch_size):\n",
    "            train_neural_network(sess, optimizer, keep_probability, batch_features, batch_labels)\n",
    "        print('Epoch {:>2}, CIFAR-10 Batch {}:  '.format(epoch + 1, batch_i), end='')\n",
    "        print_stats(sess, batch_features, batch_labels, cost, accuracy)"
   ]
  },
  {
   "cell_type": "markdown",
   "metadata": {},
   "source": [
    "### Fully Train the Model\n",
    "Now that you got a good accuracy with a single CIFAR-10 batch, try it with all five batches."
   ]
  },
  {
   "cell_type": "code",
   "execution_count": 26,
   "metadata": {
    "collapsed": false
   },
   "outputs": [
    {
     "name": "stdout",
     "output_type": "stream",
     "text": [
      "Training...\n",
      "Epoch  1, CIFAR-10 Batch 1:  Val accuracy: 0.17399999499320984, Current loss: 2.291949987411499\n",
      "Epoch  1, CIFAR-10 Batch 2:  Val accuracy: 0.17479999363422394, Current loss: 2.2165145874023438\n",
      "Epoch  1, CIFAR-10 Batch 3:  Val accuracy: 0.18320000171661377, Current loss: 2.128939151763916\n",
      "Epoch  1, CIFAR-10 Batch 4:  Val accuracy: 0.2037999927997589, Current loss: 2.0555505752563477\n",
      "Epoch  1, CIFAR-10 Batch 5:  Val accuracy: 0.24580000340938568, Current loss: 2.010958194732666\n",
      "Epoch  2, CIFAR-10 Batch 1:  Val accuracy: 0.2964000105857849, Current loss: 1.9569766521453857\n",
      "Epoch  2, CIFAR-10 Batch 2:  Val accuracy: 0.32280001044273376, Current loss: 1.8437044620513916\n",
      "Epoch  2, CIFAR-10 Batch 3:  Val accuracy: 0.36500000953674316, Current loss: 1.636191487312317\n",
      "Epoch  2, CIFAR-10 Batch 4:  Val accuracy: 0.3813999891281128, Current loss: 1.6387619972229004\n",
      "Epoch  2, CIFAR-10 Batch 5:  Val accuracy: 0.3734000027179718, Current loss: 1.7236275672912598\n",
      "Epoch  3, CIFAR-10 Batch 1:  Val accuracy: 0.3944000005722046, Current loss: 1.68483304977417\n",
      "Epoch  3, CIFAR-10 Batch 2:  Val accuracy: 0.415800005197525, Current loss: 1.6490123271942139\n",
      "Epoch  3, CIFAR-10 Batch 3:  Val accuracy: 0.42899999022483826, Current loss: 1.4385508298873901\n",
      "Epoch  3, CIFAR-10 Batch 4:  Val accuracy: 0.4327999949455261, Current loss: 1.4487375020980835\n",
      "Epoch  3, CIFAR-10 Batch 5:  Val accuracy: 0.42480000853538513, Current loss: 1.5001189708709717\n",
      "Epoch  4, CIFAR-10 Batch 1:  Val accuracy: 0.45320001244544983, Current loss: 1.539541244506836\n",
      "Epoch  4, CIFAR-10 Batch 2:  Val accuracy: 0.4490000009536743, Current loss: 1.5240600109100342\n",
      "Epoch  4, CIFAR-10 Batch 3:  Val accuracy: 0.4607999920845032, Current loss: 1.3036746978759766\n",
      "Epoch  4, CIFAR-10 Batch 4:  Val accuracy: 0.44780001044273376, Current loss: 1.3671705722808838\n",
      "Epoch  4, CIFAR-10 Batch 5:  Val accuracy: 0.462799996137619, Current loss: 1.3502213954925537\n",
      "Epoch  5, CIFAR-10 Batch 1:  Val accuracy: 0.4832000136375427, Current loss: 1.4012553691864014\n",
      "Epoch  5, CIFAR-10 Batch 2:  Val accuracy: 0.47540000081062317, Current loss: 1.4537837505340576\n",
      "Epoch  5, CIFAR-10 Batch 3:  Val accuracy: 0.4862000048160553, Current loss: 1.2537717819213867\n",
      "Epoch  5, CIFAR-10 Batch 4:  Val accuracy: 0.5023999810218811, Current loss: 1.2399256229400635\n",
      "Epoch  5, CIFAR-10 Batch 5:  Val accuracy: 0.4837999939918518, Current loss: 1.2813364267349243\n",
      "Epoch  6, CIFAR-10 Batch 1:  Val accuracy: 0.5055999755859375, Current loss: 1.380139708518982\n",
      "Epoch  6, CIFAR-10 Batch 2:  Val accuracy: 0.5094000101089478, Current loss: 1.3218027353286743\n",
      "Epoch  6, CIFAR-10 Batch 3:  Val accuracy: 0.5194000005722046, Current loss: 1.1646109819412231\n",
      "Epoch  6, CIFAR-10 Batch 4:  Val accuracy: 0.5094000101089478, Current loss: 1.2035759687423706\n",
      "Epoch  6, CIFAR-10 Batch 5:  Val accuracy: 0.5063999891281128, Current loss: 1.2294585704803467\n",
      "Epoch  7, CIFAR-10 Batch 1:  Val accuracy: 0.5338000059127808, Current loss: 1.2702686786651611\n",
      "Epoch  7, CIFAR-10 Batch 2:  Val accuracy: 0.5307999849319458, Current loss: 1.2472107410430908\n",
      "Epoch  7, CIFAR-10 Batch 3:  Val accuracy: 0.5135999917984009, Current loss: 1.1354856491088867\n",
      "Epoch  7, CIFAR-10 Batch 4:  Val accuracy: 0.5411999821662903, Current loss: 1.1147847175598145\n",
      "Epoch  7, CIFAR-10 Batch 5:  Val accuracy: 0.5415999889373779, Current loss: 1.1359732151031494\n",
      "Epoch  8, CIFAR-10 Batch 1:  Val accuracy: 0.54339998960495, Current loss: 1.2076921463012695\n",
      "Epoch  8, CIFAR-10 Batch 2:  Val accuracy: 0.5437999963760376, Current loss: 1.2297247648239136\n",
      "Epoch  8, CIFAR-10 Batch 3:  Val accuracy: 0.5393999814987183, Current loss: 1.0767613649368286\n",
      "Epoch  8, CIFAR-10 Batch 4:  Val accuracy: 0.5482000112533569, Current loss: 1.0399113893508911\n",
      "Epoch  8, CIFAR-10 Batch 5:  Val accuracy: 0.5278000235557556, Current loss: 1.123673677444458\n",
      "Epoch  9, CIFAR-10 Batch 1:  Val accuracy: 0.5307999849319458, Current loss: 1.1779853105545044\n",
      "Epoch  9, CIFAR-10 Batch 2:  Val accuracy: 0.5550000071525574, Current loss: 1.1585150957107544\n",
      "Epoch  9, CIFAR-10 Batch 3:  Val accuracy: 0.5257999897003174, Current loss: 1.06691575050354\n",
      "Epoch  9, CIFAR-10 Batch 4:  Val accuracy: 0.5568000078201294, Current loss: 1.02516508102417\n",
      "Epoch  9, CIFAR-10 Batch 5:  Val accuracy: 0.5564000010490417, Current loss: 1.0598102807998657\n",
      "Epoch 10, CIFAR-10 Batch 1:  Val accuracy: 0.5465999841690063, Current loss: 1.1437554359436035\n",
      "Epoch 10, CIFAR-10 Batch 2:  Val accuracy: 0.5551999807357788, Current loss: 1.1352031230926514\n",
      "Epoch 10, CIFAR-10 Batch 3:  Val accuracy: 0.5388000011444092, Current loss: 1.0291327238082886\n",
      "Epoch 10, CIFAR-10 Batch 4:  Val accuracy: 0.5540000200271606, Current loss: 0.987736165523529\n",
      "Epoch 10, CIFAR-10 Batch 5:  Val accuracy: 0.5658000111579895, Current loss: 1.0051935911178589\n",
      "Epoch 11, CIFAR-10 Batch 1:  Val accuracy: 0.5555999875068665, Current loss: 1.0493717193603516\n",
      "Epoch 11, CIFAR-10 Batch 2:  Val accuracy: 0.5685999989509583, Current loss: 1.0676661729812622\n",
      "Epoch 11, CIFAR-10 Batch 3:  Val accuracy: 0.5717999935150146, Current loss: 0.9374121427536011\n",
      "Epoch 11, CIFAR-10 Batch 4:  Val accuracy: 0.574400007724762, Current loss: 0.910524845123291\n",
      "Epoch 11, CIFAR-10 Batch 5:  Val accuracy: 0.5771999955177307, Current loss: 0.9703357815742493\n",
      "Epoch 12, CIFAR-10 Batch 1:  Val accuracy: 0.5618000030517578, Current loss: 1.0235785245895386\n",
      "Epoch 12, CIFAR-10 Batch 2:  Val accuracy: 0.5745999813079834, Current loss: 0.9948291182518005\n",
      "Epoch 12, CIFAR-10 Batch 3:  Val accuracy: 0.5699999928474426, Current loss: 0.8585432171821594\n",
      "Epoch 12, CIFAR-10 Batch 4:  Val accuracy: 0.5881999731063843, Current loss: 0.8424678444862366\n",
      "Epoch 12, CIFAR-10 Batch 5:  Val accuracy: 0.578000009059906, Current loss: 0.8987460732460022\n",
      "Epoch 13, CIFAR-10 Batch 1:  Val accuracy: 0.5558000206947327, Current loss: 0.9590791463851929\n",
      "Epoch 13, CIFAR-10 Batch 2:  Val accuracy: 0.5863999724388123, Current loss: 0.9384711980819702\n",
      "Epoch 13, CIFAR-10 Batch 3:  Val accuracy: 0.5672000050544739, Current loss: 0.9141594171524048\n",
      "Epoch 13, CIFAR-10 Batch 4:  Val accuracy: 0.5831999778747559, Current loss: 0.8380604386329651\n",
      "Epoch 13, CIFAR-10 Batch 5:  Val accuracy: 0.5820000171661377, Current loss: 0.8885201215744019\n",
      "Epoch 14, CIFAR-10 Batch 1:  Val accuracy: 0.5461999773979187, Current loss: 0.9663488268852234\n",
      "Epoch 14, CIFAR-10 Batch 2:  Val accuracy: 0.5843999981880188, Current loss: 0.9243782758712769\n",
      "Epoch 14, CIFAR-10 Batch 3:  Val accuracy: 0.5843999981880188, Current loss: 0.8469291925430298\n",
      "Epoch 14, CIFAR-10 Batch 4:  Val accuracy: 0.5857999920845032, Current loss: 0.7973924875259399\n",
      "Epoch 14, CIFAR-10 Batch 5:  Val accuracy: 0.5914000272750854, Current loss: 0.8383634090423584\n",
      "Epoch 15, CIFAR-10 Batch 1:  Val accuracy: 0.5838000178337097, Current loss: 0.8396478891372681\n",
      "Epoch 15, CIFAR-10 Batch 2:  Val accuracy: 0.5623999834060669, Current loss: 0.933876633644104\n",
      "Epoch 15, CIFAR-10 Batch 3:  Val accuracy: 0.5834000110626221, Current loss: 0.8217540383338928\n",
      "Epoch 15, CIFAR-10 Batch 4:  Val accuracy: 0.5893999934196472, Current loss: 0.736929714679718\n",
      "Epoch 15, CIFAR-10 Batch 5:  Val accuracy: 0.5952000021934509, Current loss: 0.7791519165039062\n",
      "Epoch 16, CIFAR-10 Batch 1:  Val accuracy: 0.5684000253677368, Current loss: 0.8648852705955505\n",
      "Epoch 16, CIFAR-10 Batch 2:  Val accuracy: 0.5777999758720398, Current loss: 0.8864518404006958\n",
      "Epoch 16, CIFAR-10 Batch 3:  Val accuracy: 0.5856000185012817, Current loss: 0.7856547236442566\n",
      "Epoch 16, CIFAR-10 Batch 4:  Val accuracy: 0.5971999764442444, Current loss: 0.7168169617652893\n",
      "Epoch 16, CIFAR-10 Batch 5:  Val accuracy: 0.5952000021934509, Current loss: 0.7528418898582458\n",
      "Epoch 17, CIFAR-10 Batch 1:  Val accuracy: 0.5604000091552734, Current loss: 0.862797200679779\n",
      "Epoch 17, CIFAR-10 Batch 2:  Val accuracy: 0.5601999759674072, Current loss: 0.9241814613342285\n",
      "Epoch 17, CIFAR-10 Batch 3:  Val accuracy: 0.5720000267028809, Current loss: 0.7759143710136414\n",
      "Epoch 17, CIFAR-10 Batch 4:  Val accuracy: 0.597599983215332, Current loss: 0.6910014748573303\n",
      "Epoch 17, CIFAR-10 Batch 5:  Val accuracy: 0.5985999703407288, Current loss: 0.7192682027816772\n",
      "Epoch 18, CIFAR-10 Batch 1:  Val accuracy: 0.5745999813079834, Current loss: 0.794039249420166\n",
      "Epoch 18, CIFAR-10 Batch 2:  Val accuracy: 0.5717999935150146, Current loss: 0.8703989386558533\n",
      "Epoch 18, CIFAR-10 Batch 3:  Val accuracy: 0.5720000267028809, Current loss: 0.7826478481292725\n",
      "Epoch 18, CIFAR-10 Batch 4:  Val accuracy: 0.593999981880188, Current loss: 0.7060834765434265\n",
      "Epoch 18, CIFAR-10 Batch 5:  Val accuracy: 0.5934000015258789, Current loss: 0.7549187541007996\n",
      "Epoch 19, CIFAR-10 Batch 1:  Val accuracy: 0.5705999732017517, Current loss: 0.8481839299201965\n",
      "Epoch 19, CIFAR-10 Batch 2:  Val accuracy: 0.5784000158309937, Current loss: 0.8400202393531799\n",
      "Epoch 19, CIFAR-10 Batch 3:  Val accuracy: 0.5979999899864197, Current loss: 0.6983571648597717\n",
      "Epoch 19, CIFAR-10 Batch 4:  Val accuracy: 0.597000002861023, Current loss: 0.6487090587615967\n",
      "Epoch 19, CIFAR-10 Batch 5:  Val accuracy: 0.6015999913215637, Current loss: 0.685711145401001\n",
      "Epoch 20, CIFAR-10 Batch 1:  Val accuracy: 0.5821999907493591, Current loss: 0.783054769039154\n",
      "Epoch 20, CIFAR-10 Batch 2:  Val accuracy: 0.5763999819755554, Current loss: 0.7859958410263062\n",
      "Epoch 20, CIFAR-10 Batch 3:  Val accuracy: 0.5943999886512756, Current loss: 0.6777447462081909\n",
      "Epoch 20, CIFAR-10 Batch 4:  Val accuracy: 0.6039999723434448, Current loss: 0.6031118631362915\n",
      "Epoch 20, CIFAR-10 Batch 5:  Val accuracy: 0.5985999703407288, Current loss: 0.656087338924408\n",
      "./image_classification\n"
     ]
    }
   ],
   "source": [
    "\"\"\"\n",
    "DON'T MODIFY ANYTHING IN THIS CELL\n",
    "\"\"\"\n",
    "save_model_path = './image_classification'\n",
    "\n",
    "print('Training...')\n",
    "with tf.Session() as sess:\n",
    "    # Initializing the variables\n",
    "    sess.run(tf.global_variables_initializer())\n",
    "    \n",
    "    # Training cycle\n",
    "    for epoch in range(epochs):\n",
    "        # Loop over all batches\n",
    "        n_batches = 5\n",
    "        for batch_i in range(1, n_batches + 1):\n",
    "            for batch_features, batch_labels in helper.load_preprocess_training_batch(batch_i, batch_size):\n",
    "                train_neural_network(sess, optimizer, keep_probability, batch_features, batch_labels)\n",
    "            print('Epoch {:>2}, CIFAR-10 Batch {}:  '.format(epoch + 1, batch_i), end='')\n",
    "            print_stats(sess, batch_features, batch_labels, cost, accuracy)\n",
    "            \n",
    "    # Save Model\n",
    "    saver = tf.train.Saver()\n",
    "    print (save_model_path)\n",
    "    save_path = saver.save(sess, save_model_path)"
   ]
  },
  {
   "cell_type": "markdown",
   "metadata": {},
   "source": [
    "# Checkpoint\n",
    "The model has been saved to disk.\n",
    "## Test Model\n",
    "Test your model against the test dataset.  This will be your final accuracy. You should have an accuracy greater than 50%. If you don't, keep tweaking the model architecture and parameters."
   ]
  },
  {
   "cell_type": "code",
   "execution_count": 27,
   "metadata": {
    "collapsed": false
   },
   "outputs": [
    {
     "name": "stdout",
     "output_type": "stream",
     "text": [
      "<tensorflow.python.training.saver.Saver object at 0x11486ccc0>\n",
      "Testing Accuracy: 0.5952607989311218\n",
      "\n"
     ]
    },
    {
     "data": {
      "image/png": "[encoded data removed]",
      "text/plain": [
       "<matplotlib.figure.Figure at 0x114e1e0f0>"
      ]
     },
     "metadata": {
      "image/png": {
       "height": 319,
       "width": 355
      }
     },
     "output_type": "display_data"
    }
   ],
   "source": [
    "\"\"\"\n",
    "DON'T MODIFY ANYTHING IN THIS CELL\n",
    "\"\"\"\n",
    "%matplotlib inline\n",
    "%config InlineBackend.figure_format = 'retina'\n",
    "\n",
    "import tensorflow as tf\n",
    "import pickle\n",
    "import helper\n",
    "import random\n",
    "\n",
    "# Set batch size if not already set\n",
    "try:\n",
    "    if batch_size:\n",
    "        pass\n",
    "except NameError:\n",
    "    batch_size = 64\n",
    "\n",
    "save_model_path = './image_classification'\n",
    "n_samples = 4\n",
    "top_n_predictions = 3\n",
    "\n",
    "def test_model():\n",
    "    \"\"\"\n",
    "    Test the saved model against the test dataset\n",
    "    \"\"\"\n",
    "\n",
    "    test_features, test_labels = pickle.load(open('preprocess_training.p', mode='rb'))\n",
    "    loaded_graph = tf.Graph()\n",
    "\n",
    "    with tf.Session(graph=loaded_graph) as sess:\n",
    "        # Load model\n",
    "        loader = tf.train.import_meta_graph(save_model_path + '.meta')\n",
    "        loader.restore(sess, save_model_path)\n",
    "        print (loader)\n",
    "        # Get Tensors from loaded model\n",
    "        loaded_x = loaded_graph.get_tensor_by_name('x:0')\n",
    "        loaded_y = loaded_graph.get_tensor_by_name('y:0')\n",
    "        loaded_keep_prob = loaded_graph.get_tensor_by_name('keep_prob:0')\n",
    "        loaded_logits = loaded_graph.get_tensor_by_name('logits:0')\n",
    "        loaded_acc = loaded_graph.get_tensor_by_name('accuracy:0')\n",
    "        \n",
    "        # Get accuracy in batches for memory limitations\n",
    "        test_batch_acc_total = 0\n",
    "        test_batch_count = 0\n",
    "        \n",
    "        for train_feature_batch, train_label_batch in helper.batch_features_labels(test_features, test_labels, batch_size):\n",
    "            test_batch_acc_total += sess.run(\n",
    "                loaded_acc,\n",
    "                feed_dict={loaded_x: train_feature_batch, loaded_y: train_label_batch, loaded_keep_prob: 1.0})\n",
    "            test_batch_count += 1\n",
    "\n",
    "        print('Testing Accuracy: {}\\n'.format(test_batch_acc_total/test_batch_count))\n",
    "\n",
    "        # Print Random Samples\n",
    "        random_test_features, random_test_labels = tuple(zip(*random.sample(list(zip(test_features, test_labels)), n_samples)))\n",
    "        random_test_predictions = sess.run(\n",
    "            tf.nn.top_k(tf.nn.softmax(loaded_logits), top_n_predictions),\n",
    "            feed_dict={loaded_x: random_test_features, loaded_y: random_test_labels, loaded_keep_prob: 1.0})\n",
    "        helper.display_image_predictions(random_test_features, random_test_labels, random_test_predictions)\n",
    "\n",
    "\n",
    "test_model()"
   ]
  },
  {
   "cell_type": "markdown",
   "metadata": {},
   "source": [
    "## Why 50-80% Accuracy?\n",
    "You might be wondering why you can't get an accuracy any higher. First things first, 50% isn't bad for a simple CNN.  Pure guessing would get you 10% accuracy. However, you might notice people are getting scores [well above 80%](http://rodrigob.github.io/are_we_there_yet/build/classification_datasets_results.html#43494641522d3130).  That's because we haven't taught you all there is to know about neural networks. We still need to cover a few more techniques.\n",
    "## Submitting This Project\n",
    "When submitting this project, make sure to run all the cells before saving the notebook.  Save the notebook file as \"dlnd_image_classification.ipynb\" and save it as a HTML file under \"File\" -> \"Download as\".  Include the \"helper.py\" and \"problem_unittests.py\" files in your submission."
   ]
  },
  {
   "cell_type": "code",
   "execution_count": null,
   "metadata": {
    "collapsed": true
   },
   "outputs": [],
   "source": []
  }
 ],
 "metadata": {
  "kernelspec": {
   "display_name": "Python 3",
   "language": "python",
   "name": "python3"
  },
  "language_info": {
   "codemirror_mode": {
    "name": "ipython",
    "version": 3
   },
   "file_extension": ".py",
   "mimetype": "text/x-python",
   "name": "python",
   "nbconvert_exporter": "python",
   "pygments_lexer": "ipython3",
   "version": "3.6.0"
  }
 },
 "nbformat": 4,
 "nbformat_minor": 1
}
